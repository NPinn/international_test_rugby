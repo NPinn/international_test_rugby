{
 "cells": [
  {
   "cell_type": "code",
   "execution_count": 1,
   "id": "ce07d20f-5975-481e-ba68-b1cf8c0d10d5",
   "metadata": {},
   "outputs": [],
   "source": [
    "import json\n",
    "import pandas as pd\n",
    "import numpy as np\n",
    "\n",
    "import re\n",
    "from wikipedia_scraper import fetch_wikipedia_page\n",
    "\n",
    "data_path = 'data/'\n",
    "raw_data_path = data_path+'raw_data/'"
   ]
  },
  {
   "cell_type": "code",
   "execution_count": 2,
   "id": "b9e78d3f-5eaa-4db5-9fd0-380a169f68ea",
   "metadata": {},
   "outputs": [],
   "source": [
    "wru_yearly_breakdown_json = json.load(open(raw_data_path+'wru_yearly_breakdown_messy.json'))"
   ]
  },
  {
   "cell_type": "code",
   "execution_count": 12,
   "id": "14a18edc-d713-4e8d-b05e-02851430b12a",
   "metadata": {},
   "outputs": [
    {
     "data": {
      "text/plain": [
       "'\\n\\n\\nTest#\\nDates\\nEvent\\nLocation\\n\\n\\n20-25\\n21 May 1988 to 23 May 1988\\nEuropean Cup\\nBourg-en-Bresse, France\\n\\n'"
      ]
     },
     "execution_count": 12,
     "metadata": {},
     "output_type": "execute_result"
    }
   ],
   "source": [
    "wru_yearly_breakdown_json['1988']['tournaments']"
   ]
  },
  {
   "cell_type": "code",
   "execution_count": 53,
   "id": "d640db57-a948-4dd9-a782-e6e1169a5e1f",
   "metadata": {
    "scrolled": true
   },
   "outputs": [
    {
     "name": "stdout",
     "output_type": "stream",
     "text": [
      "24 May–2 June 2024\n",
      "Oceania Rugby Women's Championship\n",
      "\n",
      "O'Reilly Cup\n",
      "2025 World Cup South America Qualifier\n",
      "Various\n",
      "10–14 July 2024\n",
      "Americas North Championship\n",
      "Rugby Europe Conference\n",
      "Various\n"
     ]
    }
   ],
   "source": [
    "cleaned_dict = {}\n",
    "for year, details in wru_yearly_breakdown_json.items():\n",
    "    tournaments_dict = {}\n",
    "    tournaments = details['tournaments']\n",
    "    other_matches = details['other_matches']\n",
    "    if tournaments == None:\n",
    "        cleaned_dict[year] = wru_yearly_breakdown_json[year]\n",
    "    else:\n",
    "        matches = re.findall(r\"\\n(.*?)\\n\\n\", tournaments, flags=re.DOTALL)\n",
    "        for i, match in enumerate(matches):\n",
    "            if match == '' or 'dates' in match.lower() or 'location' in match.lower():\n",
    "                pass\n",
    "            else:\n",
    "                details_dict = {}\n",
    "                if len(match.split('\\n')) == 4:\n",
    "                    details_dict['test_match_numbers'] = match.split('\\n')[0]\n",
    "                    details_dict['tournament_dates'] = match.split('\\n')[1]\n",
    "                    details_dict['tournament_name'] = match.split('\\n')[2]\n",
    "                    details_dict['tournament_location'] = match.split('\\n')[3]\n",
    "                elif len(match.split('\\n')) == 3:\n",
    "                    details_dict['tournament_dates'] = match.split('\\n')[0]\n",
    "                    details_dict['tournament_name'] = match.split('\\n')[1]\n",
    "                    details_dict['tournament_location'] = match.split('\\n')[2]\n",
    "                else:\n",
    "                    print(match)\n",
    "                \n",
    "                tournaments_dict[i] = details_dict\n",
    "        cleaned_dict[year] = {'tournaments': tournaments_dict, 'other_matches' : other_matches}"
   ]
  },
  {
   "cell_type": "code",
   "execution_count": 52,
   "id": "f04705a1-19dc-4db9-8ccc-891c26c24358",
   "metadata": {},
   "outputs": [
    {
     "data": {
      "text/plain": [
       "{'tournaments': {2: {'test_match_numbers': '20-25',\n",
       "   'tournament_dates': '21 May 1988 to 23 May 1988',\n",
       "   'tournament_name': 'European Cup',\n",
       "   'tournament_location': 'Bourg-en-Bresse, France'}},\n",
       " 'other_matches': '\\n24 April 1988Wales\\xa06–36\\xa0EnglandNewport RFC\\n8 August 1988United States\\xa026–10\\xa0CanadaSaranac Lake\\n15 October 1988England\\xa040–0\\xa0SwedenWaterloo\\n27 November 1988Belgium\\xa00–66\\xa0FranceBrussels\\n27 November 1988Netherlands\\xa03–0\\xa0WalesUtrecht\\n\\n'}"
      ]
     },
     "execution_count": 52,
     "metadata": {},
     "output_type": "execute_result"
    }
   ],
   "source": [
    "cleaned_dict['1988']"
   ]
  }
 ],
 "metadata": {
  "kernelspec": {
   "display_name": "Python 3 (ipykernel)",
   "language": "python",
   "name": "python3"
  },
  "language_info": {
   "codemirror_mode": {
    "name": "ipython",
    "version": 3
   },
   "file_extension": ".py",
   "mimetype": "text/x-python",
   "name": "python",
   "nbconvert_exporter": "python",
   "pygments_lexer": "ipython3",
   "version": "3.12.3"
  }
 },
 "nbformat": 4,
 "nbformat_minor": 5
}
