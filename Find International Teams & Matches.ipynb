{
 "cells": [
  {
   "cell_type": "code",
   "execution_count": 3,
   "id": "c2b40a27-9dc5-4019-a907-284daa13fa2a",
   "metadata": {},
   "outputs": [],
   "source": [
    "import json\n",
    "import pandas as pd\n",
    "import os\n",
    "import re\n",
    "\n",
    "data_path = 'data/'\n",
    "raw_data_path = data_path+'raw_data/'\n",
    "cleaned_data_path = data_path+'cleaned_data/'"
   ]
  },
  {
   "cell_type": "code",
   "execution_count": 155,
   "id": "02b96166-62e6-4fef-aaf4-763d0baed922",
   "metadata": {},
   "outputs": [],
   "source": [
    "with open(raw_data_path+\"international_rugby_teams.json\", \"w\") as jfile:\n",
    "    json.dump(international_teams, jfile)"
   ]
  },
  {
   "cell_type": "code",
   "execution_count": 8,
   "id": "1679c144-46e7-4c67-a6a2-792f254d84ce",
   "metadata": {},
   "outputs": [],
   "source": [
    "all_rugby_matches_dict = json.load(open(raw_data_path+'all_rugby_matches.json'))"
   ]
  },
  {
   "cell_type": "code",
   "execution_count": 52,
   "id": "2626192b-2a25-48de-899a-ce6d6e0b8f63",
   "metadata": {
    "scrolled": true
   },
   "outputs": [],
   "source": [
    "international_teams = {}\n",
    "\n",
    "for _id, match in all_rugby_matches_dict.items():\n",
    "    teamAid = match['teamAid']\n",
    "    teamAname = match['teamAname']\n",
    "    teamBid = match['teamBid']\n",
    "    teamBname = match['teamBname']\n",
    "    try:\n",
    "        if match['venueCountry'] == teamAname or match['venueCountry'] == teamBname:\n",
    "            if teamAid not in international_teams.keys():\n",
    "                international_teams[teamAid] = teamAname\n",
    "            \n",
    "            if teamBid not in international_teams.keys():\n",
    "                international_teams[teamBid] = teamBname\n",
    "    except:\n",
    "        pass"
   ]
  },
  {
   "cell_type": "code",
   "execution_count": 78,
   "id": "709044ad-31d1-4a15-ad0b-772c44785f3d",
   "metadata": {
    "scrolled": true
   },
   "outputs": [],
   "source": [
    "first_pass_int_matches_dict = {}\n",
    "\n",
    "for _id, match in all_rugby_matches_dict.items():\n",
    "    teamAid = match['teamAid']\n",
    "    teamBid = match['teamBid']\n",
    "\n",
    "    if teamAid in international_teams.keys() and teamBid in international_teams.keys():\n",
    "        if match['sport']!='JMU':\n",
    "            first_pass_int_matches_dict[_id] = match"
   ]
  },
  {
   "cell_type": "code",
   "execution_count": null,
   "id": "8e033eb1-46db-440e-9bb6-69d2479c3db8",
   "metadata": {},
   "outputs": [],
   "source": []
  }
 ],
 "metadata": {
  "kernelspec": {
   "display_name": "Python 3 (ipykernel)",
   "language": "python",
   "name": "python3"
  },
  "language_info": {
   "codemirror_mode": {
    "name": "ipython",
    "version": 3
   },
   "file_extension": ".py",
   "mimetype": "text/x-python",
   "name": "python",
   "nbconvert_exporter": "python",
   "pygments_lexer": "ipython3",
   "version": "3.11.7"
  }
 },
 "nbformat": 4,
 "nbformat_minor": 5
}
